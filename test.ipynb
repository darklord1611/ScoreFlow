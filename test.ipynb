{
 "cells": [
  {
   "cell_type": "code",
   "execution_count": 4,
   "metadata": {},
   "outputs": [
    {
     "data": {
      "text/plain": [
       "952"
      ]
     },
     "execution_count": 4,
     "metadata": {},
     "output_type": "execute_result"
    }
   ],
   "source": [
    "import os\n",
    "import pickle\n",
    "\n",
    "pkl_path = \"/teamspace/studios/this_studio/modal_remote/ScoreFlow/runs/Qwen-Qwen2.5-7B-Instruct_MATH_0/Qwen-Qwen2.5-7B-Instruct_MATH_0.pkl\"\n",
    "\n",
    "if not os.path.exists(pkl_path):\n",
    "    raise FileNotFoundError(f\"Không tìm thấy file {pkl_path}\")\n",
    "with open(pkl_path, \"rb\") as f:\n",
    "    data = pickle.load(f)\n",
    "\n",
    "len(data)"
   ]
  },
  {
   "cell_type": "code",
   "execution_count": 9,
   "metadata": {},
   "outputs": [],
   "source": [
    "ref_prob = \"A particular convex pentagon has two congruent, acute angles. The measure of each of the other interior angles is equal to the sum of the measures of the two acute angles. What is the common measure of the large angles, in degrees?\""
   ]
  },
  {
   "cell_type": "code",
   "execution_count": 11,
   "metadata": {},
   "outputs": [
    {
     "name": "stdout",
     "output_type": "stream",
     "text": [
      "Total records: 952\n",
      "Expecting 119 unique problems (8 graphs each)\n",
      "\n",
      "\n",
      "✅ All problems are grouped correctly (8 per problem, contiguous).\n"
     ]
    }
   ],
   "source": [
    "graph_num = 8  # number of graph variants per problem\n",
    "\n",
    "# Assume `data` is already loaded (from the pickle)\n",
    "print(f\"Total records: {len(data)}\")\n",
    "num_problems = len(data) // graph_num\n",
    "print(f\"Expecting {num_problems} unique problems (8 graphs each)\\n\")\n",
    "\n",
    "error_groups = []\n",
    "\n",
    "for group_idx in range(num_problems):\n",
    "    start = group_idx * graph_num\n",
    "    end = start + graph_num\n",
    "    group = data[start:end]\n",
    "    \n",
    "    # Reference problem text (normalize whitespace)\n",
    "    ref_prob = group[0][0][\"problem\"].strip()\n",
    "    all_same = all(\n",
    "        (item[0][\"problem\"].strip() == ref_prob)\n",
    "        for item in group\n",
    "    )\n",
    "    \n",
    "    if not all_same:\n",
    "        print(f\"❌ Mismatch found in group {group_idx} (indices {start}-{end-1})\")\n",
    "        for idx, item in enumerate(group, start=start):\n",
    "            print(f\"  idx={idx} → {item[0]['problem'][:80]!r}\")\n",
    "        error_groups.append(group_idx)\n",
    "\n",
    "if not error_groups:\n",
    "    print(\"\\n✅ All problems are grouped correctly (8 per problem, contiguous).\")\n",
    "else:\n",
    "    print(f\"\\n⚠️ Found {len(error_groups)} groups with mismatched problems: {error_groups}\")\n"
   ]
  },
  {
   "cell_type": "code",
   "execution_count": 1,
   "metadata": {},
   "outputs": [
    {
     "data": {
      "text/plain": [
       "952"
      ]
     },
     "execution_count": 1,
     "metadata": {},
     "output_type": "execute_result"
    }
   ],
   "source": [
    "import json\n",
    "\n",
    "with open(\"runs/Qwen-Qwen2.5-7B-Instruct_MATH_0/Qwen-Qwen2.5-7B-Instruct_MATH_0.json\", \"r\") as f:\n",
    "    workflow_data = json.load(f)\n",
    "\n",
    "len(workflow_data)"
   ]
  },
  {
   "cell_type": "code",
   "execution_count": 2,
   "metadata": {},
   "outputs": [
    {
     "data": {
      "text/plain": [
       "550"
      ]
     },
     "execution_count": 2,
     "metadata": {},
     "output_type": "execute_result"
    }
   ],
   "source": [
    "with open(\"part_1.json\", \"r\") as f:\n",
    "    part1_eval = json.load(f)\n",
    "\n",
    "len(part1_eval)"
   ]
  },
  {
   "cell_type": "code",
   "execution_count": 3,
   "metadata": {},
   "outputs": [
    {
     "data": {
      "text/plain": [
       "456"
      ]
     },
     "execution_count": 3,
     "metadata": {},
     "output_type": "execute_result"
    }
   ],
   "source": [
    "with open(\"part_1.json\", \"r\") as f:\n",
    "    part1_eval = json.load(f)\n",
    "\n",
    "len(part1_eval)\n",
    "\n",
    "with open(\"runs/Qwen-Qwen2.5-7B-Instruct_MATH_0/Qwen-Qwen2.5-7B-Instruct_MATH_0_scores_0_named.json\", \"r\") as f:\n",
    "    part2_eval = json.load(f)\n",
    "\n",
    "len(part2_eval)"
   ]
  },
  {
   "cell_type": "code",
   "execution_count": 4,
   "metadata": {},
   "outputs": [
    {
     "name": "stdout",
     "output_type": "stream",
     "text": [
      "Part 1 entries: 550\n",
      "Part 2 entries: 456\n",
      "✅ Merged entries: 952 (removed 54 duplicates)\n",
      "💾 Saved merged file → merged_eval.json\n"
     ]
    }
   ],
   "source": [
    "print(f\"Part 1 entries: {len(part1_eval)}\")\n",
    "print(f\"Part 2 entries: {len(part2_eval)}\")\n",
    "\n",
    "# === Merge while removing duplicates ===\n",
    "merged = []\n",
    "seen_keys = set()\n",
    "\n",
    "def key(entry):\n",
    "    return (entry[\"question_id\"], entry[\"graph_id\"], entry[\"rep_id\"])\n",
    "\n",
    "for entry in part1_eval + part2_eval:\n",
    "    k = key(entry)\n",
    "    if k not in seen_keys:\n",
    "        merged.append(entry)\n",
    "        seen_keys.add(k)\n",
    "\n",
    "print(f\"✅ Merged entries: {len(merged)} (removed {len(part1_eval) + len(part2_eval) - len(merged)} duplicates)\")\n",
    "\n",
    "# === Save result ===\n",
    "output_file = \"merged_eval.json\"\n",
    "# with open(output_file, \"w\") as f:\n",
    "#     json.dump(merged, f, indent=2, ensure_ascii=False)\n",
    "\n",
    "print(f\"💾 Saved merged file → {output_file}\")"
   ]
  },
  {
   "cell_type": "code",
   "execution_count": 6,
   "metadata": {},
   "outputs": [
    {
     "data": {
      "text/plain": [
       "{'problem': 'A particular convex pentagon has two congruent, acute angles. The measure of each of the other interior angles is equal to the sum of the measures of the two acute angles. What is the common measure of the large angles, in degrees?',\n",
       " 'level': 'Level 5',\n",
       " 'type': 'Prealgebra',\n",
       " 'solution': 'If $x$ is the measure in degrees of each of the acute angles, then each of the larger angles measures $2x$ degrees.  Since the number of degrees in the sum of the interior angles of an $n$-gon is $180(n-2)$, we have \\\\[\\nx+x+2x+2x+2x=540 \\\\implies 8x = 540 \\\\implies x=135/2.\\n\\\\] The large angles each measure $2x=\\\\boxed{135}$ degrees.',\n",
       " 'graph': ' <graph>\\nclass Workflow:\\n    def __init__(\\n        self,\\n        config,\\n        problem\\n    ) -> None:\\n        self.problem = problem\\n        self.config = create(config)\\n        self.gid = None\\n        self.custom = operator.Custom(self.config, self.gid, self.problem)\\n        self.sc_ensemble = operator.ScEnsemble(self.config, self.gid, self.problem)\\n        self.programmer = operator.Programmer(self.config, self.gid, self.problem)\\n        self.review = operator.Review(self.config, self.gid, self.problem)\\n\\n    async def run_workflow(self):\\n        \"\"\"\\n        This is a workflow graph.\\n        \"\"\"\\n        solution_1 = await self.custom(instruction=\"Can you break down the problem into smaller steps and explain the reasoning behind each step?\")\\n        solution_2 = await self.custom(instruction=\"Can you provide a detailed analysis of the problem and suggest a method to solve it?\")\\n        solutions = [solution_1, solution_2]\\n        ensembled_solution = await self.sc_ensemble(solutions=solutions)\\n        program_solution = await self.programmer(analysis=ensembled_solution)\\n        reviewed_solution = await self.review(pre_solution=program_solution)\\n\\n        return reviewed_solution\\n</graph>'}"
      ]
     },
     "execution_count": 6,
     "metadata": {},
     "output_type": "execute_result"
    }
   ],
   "source": [
    "temp_data = []\n",
    "\n",
    "for item in workflow_data:\n",
    "    cur = {\n",
    "        \"problem\": item[0][\"problem\"],\n",
    "        \"level\": item[0][\"level\"],\n",
    "        \"type\": item[0][\"type\"],\n",
    "        \"solution\": item[0][\"solution\"],\n",
    "        \"graph\": item[1]\n",
    "    }\n",
    "    temp_data.append(cur)\n",
    "\n",
    "temp_data[0]"
   ]
  },
  {
   "cell_type": "code",
   "execution_count": 9,
   "metadata": {},
   "outputs": [
    {
     "data": {
      "text/plain": [
       "{'question_id': 0,\n",
       " 'graph_id': 3,\n",
       " 'rep_id': 0,\n",
       " 'score': 0.0,\n",
       " 'prompt': 'A particular convex pentagon has two congruent, acute angles. The measure of each of the other interior angles is equal to the sum of the measures of the two acute angles. What is the common measure of the large angles, in degrees?',\n",
       " 'pred_code': \"1 validation error for ReviewOp_AN\\n  Value error, Missing fields: {'revised_solution'} [type=value_error, input_value={'thought': '1. **Logical...f the angles involved.'}, input_type=dict]\\n    For further information visit https://errors.pydantic.dev/2.9/v/value_error\",\n",
       " 'log': 'If $x$ is the measure in degrees of each of the acute angles, then each of the larger angles measures $2x$ degrees.  Since the number of degrees in the sum of the interior angles of an $n$-gon is $180(n-2)$, we have \\\\[\\nx+x+2x+2x+2x=540 \\\\implies 8x = 540 \\\\implies x=135/2.\\n\\\\] The large angles each measure $2x=\\\\boxed{135}$ degrees.',\n",
       " 'problem': 'A particular convex pentagon has two congruent, acute angles. The measure of each of the other interior angles is equal to the sum of the measures of the two acute angles. What is the common measure of the large angles, in degrees?',\n",
       " 'level': 'Level 5',\n",
       " 'type': 'Prealgebra',\n",
       " 'solution': 'If $x$ is the measure in degrees of each of the acute angles, then each of the larger angles measures $2x$ degrees.  Since the number of degrees in the sum of the interior angles of an $n$-gon is $180(n-2)$, we have \\\\[\\nx+x+2x+2x+2x=540 \\\\implies 8x = 540 \\\\implies x=135/2.\\n\\\\] The large angles each measure $2x=\\\\boxed{135}$ degrees.'}"
      ]
     },
     "execution_count": 9,
     "metadata": {},
     "output_type": "execute_result"
    }
   ],
   "source": [
    "for item in merged:\n",
    "    item[\"problem\"] = temp_data[item[\"question_id\"] + item[\"graph_id\"]][\"problem\"]\n",
    "    item[\"level\"] = temp_data[item[\"question_id\"] + item[\"graph_id\"]][\"level\"]\n",
    "    item[\"type\"] = temp_data[item[\"question_id\"] + item[\"graph_id\"]][\"type\"]\n",
    "    item[\"solution\"] = temp_data[item[\"question_id\"] + item[\"graph_id\"]][\"solution\"]\n",
    "\n",
    "    break\n",
    "\n",
    "merged[0]"
   ]
  },
  {
   "cell_type": "code",
   "execution_count": 10,
   "metadata": {},
   "outputs": [],
   "source": [
    "with open(output_file, \"w\") as f:\n",
    "    json.dump(merged, f, indent=2, ensure_ascii=False)"
   ]
  },
  {
   "cell_type": "code",
   "execution_count": null,
   "metadata": {},
   "outputs": [],
   "source": []
  }
 ],
 "metadata": {
  "language_info": {
   "name": "python"
  }
 },
 "nbformat": 4,
 "nbformat_minor": 2
}
